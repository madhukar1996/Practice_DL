{
  "nbformat": 4,
  "nbformat_minor": 0,
  "metadata": {
    "colab": {
      "name": "Pytorch_Intro.ipynb",
      "provenance": [],
      "authorship_tag": "ABX9TyMtVbTVAZUxWtqSB0dP4bYD",
      "include_colab_link": true
    },
    "kernelspec": {
      "name": "python3",
      "display_name": "Python 3"
    },
    "language_info": {
      "name": "python"
    }
  },
  "cells": [
    {
      "cell_type": "markdown",
      "metadata": {
        "id": "view-in-github",
        "colab_type": "text"
      },
      "source": [
        "<a href=\"https://colab.research.google.com/github/madhukar1996/Practice_DL/blob/master/Pytorch_Intro.ipynb\" target=\"_parent\"><img src=\"https://colab.research.google.com/assets/colab-badge.svg\" alt=\"Open In Colab\"/></a>"
      ]
    },
    {
      "cell_type": "code",
      "metadata": {
        "id": "jzsKUcsavCyK"
      },
      "source": [
        "import torch\n",
        "import numpy as np\n",
        "import matplotlib.pyplot as plt"
      ],
      "execution_count": 5,
      "outputs": []
    },
    {
      "cell_type": "code",
      "metadata": {
        "colab": {
          "base_uri": "https://localhost:8080/"
        },
        "id": "qdZq8TUTycE4",
        "outputId": "11ec35e1-a2bf-4906-b2a4-b4a3804fe640"
      },
      "source": [
        "x=torch.ones(3,2)\n",
        "print(x)\n",
        "x=torch.zeros(3,3)\n",
        "print(x)\n",
        "x=torch.rand(2,2)\n",
        "print(x)"
      ],
      "execution_count": 2,
      "outputs": [
        {
          "output_type": "stream",
          "text": [
            "tensor([[1., 1.],\n",
            "        [1., 1.],\n",
            "        [1., 1.]])\n",
            "tensor([[0., 0., 0.],\n",
            "        [0., 0., 0.],\n",
            "        [0., 0., 0.]])\n",
            "tensor([[0.8265, 0.8031],\n",
            "        [0.7624, 0.5874]])\n"
          ],
          "name": "stdout"
        }
      ]
    },
    {
      "cell_type": "code",
      "metadata": {
        "colab": {
          "base_uri": "https://localhost:8080/"
        },
        "id": "s4ILb-0xysT8",
        "outputId": "6919e750-1f7c-4008-83d2-b2b09465aba0"
      },
      "source": [
        "x=torch.empty(3,2)\n",
        "print(x)\n",
        "x=torch.zeros_like(x)\n",
        "print(x)"
      ],
      "execution_count": 3,
      "outputs": [
        {
          "output_type": "stream",
          "text": [
            "tensor([[2.5109e-11, 3.0943e-41],\n",
            "        [3.3631e-44, 0.0000e+00],\n",
            "        [       nan, 0.0000e+00]])\n",
            "tensor([[0., 0.],\n",
            "        [0., 0.],\n",
            "        [0., 0.]])\n"
          ],
          "name": "stdout"
        }
      ]
    },
    {
      "cell_type": "code",
      "metadata": {
        "id": "sC5UpNiEy7E9"
      },
      "source": [
        "x=torch.ones(2,2)\n",
        "y=torch.ones(2,2)"
      ],
      "execution_count": 8,
      "outputs": []
    },
    {
      "cell_type": "code",
      "metadata": {
        "colab": {
          "base_uri": "https://localhost:8080/"
        },
        "id": "o_yZNe4j4dSr",
        "outputId": "f51f7491-10b9-44af-ffb7-d0894af24c37"
      },
      "source": [
        "z=x+y\n",
        "print(z)\n",
        "z=x-y\n",
        "print(z)\n",
        "z=x*y\n",
        "print(z)"
      ],
      "execution_count": 9,
      "outputs": [
        {
          "output_type": "stream",
          "text": [
            "tensor([[2., 2.],\n",
            "        [2., 2.]])\n",
            "tensor([[0., 0.],\n",
            "        [0., 0.]])\n",
            "tensor([[1., 1.],\n",
            "        [1., 1.]])\n"
          ],
          "name": "stdout"
        }
      ]
    },
    {
      "cell_type": "code",
      "metadata": {
        "colab": {
          "base_uri": "https://localhost:8080/"
        },
        "id": "_FAfyx2r4q46",
        "outputId": "aa438211-07a0-4768-cbbc-f2ed2b3c57fa"
      },
      "source": [
        "# Normal adding\n",
        "z=y.add(x)\n",
        "print(z)\n",
        "print(y)\n",
        "# Inplace adding\n",
        "z=y.add_(x)\n",
        "print(z)\n",
        "print(y)"
      ],
      "execution_count": 10,
      "outputs": [
        {
          "output_type": "stream",
          "text": [
            "tensor([[2., 2.],\n",
            "        [2., 2.]])\n",
            "tensor([[1., 1.],\n",
            "        [1., 1.]])\n",
            "tensor([[2., 2.],\n",
            "        [2., 2.]])\n",
            "tensor([[2., 2.],\n",
            "        [2., 2.]])\n"
          ],
          "name": "stdout"
        }
      ]
    },
    {
      "cell_type": "code",
      "metadata": {
        "id": "C9XUMSTp43lv"
      },
      "source": [
        "# Numpy and torch conversion"
      ],
      "execution_count": 11,
      "outputs": []
    },
    {
      "cell_type": "code",
      "metadata": {
        "colab": {
          "base_uri": "https://localhost:8080/"
        },
        "id": "T9CqjHah5h5H",
        "outputId": "a12f51cc-1e11-48b1-d907-ecdf4763caad"
      },
      "source": [
        "xnp=x.numpy()\n",
        "print(type(x),type(xnp))\n",
        "print(xnp)"
      ],
      "execution_count": 12,
      "outputs": [
        {
          "output_type": "stream",
          "text": [
            "<class 'torch.Tensor'> <class 'numpy.ndarray'>\n",
            "[[1. 1.]\n",
            " [1. 1.]]\n"
          ],
          "name": "stdout"
        }
      ]
    },
    {
      "cell_type": "code",
      "metadata": {
        "colab": {
          "base_uri": "https://localhost:8080/"
        },
        "id": "6QM_4FDn6Vhm",
        "outputId": "4cf37372-054f-4e40-da31-b779299cb29e"
      },
      "source": [
        "b=torch.from_numpy(xnp)\n",
        "print(type(b),type(xnp))\n",
        "print(b)"
      ],
      "execution_count": 13,
      "outputs": [
        {
          "output_type": "stream",
          "text": [
            "<class 'torch.Tensor'> <class 'numpy.ndarray'>\n",
            "tensor([[1., 1.],\n",
            "        [1., 1.]])\n"
          ],
          "name": "stdout"
        }
      ]
    },
    {
      "cell_type": "code",
      "metadata": {
        "colab": {
          "base_uri": "https://localhost:8080/"
        },
        "id": "-4aYyEcU6oEm",
        "outputId": "96a846de-e70b-4613-a8fa-077fe7f1b513"
      },
      "source": [
        "# Same memory used when torch.from_numpy() It is actually a bridge\n",
        "np.add(xnp,1,out=xnp)\n",
        "print(xnp)\n",
        "print(b)"
      ],
      "execution_count": 15,
      "outputs": [
        {
          "output_type": "stream",
          "text": [
            "[[3. 3.]\n",
            " [3. 3.]]\n",
            "tensor([[3., 3.],\n",
            "        [3., 3.]])\n"
          ],
          "name": "stdout"
        }
      ]
    },
    {
      "cell_type": "code",
      "metadata": {
        "id": "qPGXDpBm80pB"
      },
      "source": [
        "# NFS (Need For Speed)"
      ],
      "execution_count": 17,
      "outputs": []
    },
    {
      "cell_type": "code",
      "metadata": {
        "colab": {
          "base_uri": "https://localhost:8080/"
        },
        "id": "gK9VG-m8-BEj",
        "outputId": "07d66161-6c87-4112-aaef-534bd0d7d9f7"
      },
      "source": [
        "%%time\n",
        "for i in range(10):\n",
        "  a=np.random.randn(10000,10000)\n",
        "  b=np.random.randn(10000,10000)\n",
        "  c=a+b"
      ],
      "execution_count": 20,
      "outputs": [
        {
          "output_type": "stream",
          "text": [
            "CPU times: user 1min 23s, sys: 808 ms, total: 1min 24s\n",
            "Wall time: 1min 23s\n"
          ],
          "name": "stdout"
        }
      ]
    },
    {
      "cell_type": "code",
      "metadata": {
        "colab": {
          "base_uri": "https://localhost:8080/"
        },
        "id": "PqCVQ1Z8-TY8",
        "outputId": "b2f4e27b-8afd-4034-df83-bf2536dbe710"
      },
      "source": [
        "%%time\n",
        "for i in range(10):\n",
        "  a=torch.randn([10000,10000])\n",
        "  b=torch.randn([10000,10000])\n",
        "  c=a+b"
      ],
      "execution_count": 26,
      "outputs": [
        {
          "output_type": "stream",
          "text": [
            "CPU times: user 20.8 s, sys: 19.7 ms, total: 20.8 s\n",
            "Wall time: 20.7 s\n"
          ],
          "name": "stdout"
        }
      ]
    },
    {
      "cell_type": "code",
      "metadata": {
        "id": "NY27YShV_DUl"
      },
      "source": [
        ""
      ],
      "execution_count": null,
      "outputs": []
    }
  ]
}