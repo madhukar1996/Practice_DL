{
  "nbformat": 4,
  "nbformat_minor": 0,
  "metadata": {
    "kernelspec": {
      "display_name": "Python 3",
      "language": "python",
      "name": "python3"
    },
    "language_info": {
      "codemirror_mode": {
        "name": "ipython",
        "version": 3
      },
      "file_extension": ".py",
      "mimetype": "text/x-python",
      "name": "python",
      "nbconvert_exporter": "python",
      "pygments_lexer": "ipython3",
      "version": "3.6.6"
    },
    "colab": {
      "name": "Part 5 - Inference and Validation (Exercises).ipynb",
      "provenance": [],
      "include_colab_link": true
    }
  },
  "cells": [
    {
      "cell_type": "markdown",
      "metadata": {
        "id": "view-in-github",
        "colab_type": "text"
      },
      "source": [
        "<a href=\"https://colab.research.google.com/github/madhukar1996/Practice_DL/blob/Placeholder/Pytorch_practice/Part_5_Inference_and_Validation_(Exercises).ipynb\" target=\"_parent\"><img src=\"https://colab.research.google.com/assets/colab-badge.svg\" alt=\"Open In Colab\"/></a>"
      ]
    },
    {
      "cell_type": "markdown",
      "metadata": {
        "id": "mRFd7hbGRWOb"
      },
      "source": [
        "# Inference and Validation\n",
        "\n",
        "Now that you have a trained network, you can use it for making predictions. This is typically called **inference**, a term borrowed from statistics. However, neural networks have a tendency to perform *too well* on the training data and aren't able to generalize to data that hasn't been seen before. This is called **overfitting** and it impairs inference performance. To test for overfitting while training, we measure the performance on data not in the training set called the **validation** set. We avoid overfitting through regularization such as dropout while monitoring the validation performance during training. In this notebook, I'll show you how to do this in PyTorch. \n",
        "\n",
        "As usual, let's start by loading the dataset through torchvision. You'll learn more about torchvision and loading data in a later part. This time we'll be taking advantage of the test set which you can get by setting `train=False` here:\n",
        "\n",
        "```python\n",
        "testset = datasets.FashionMNIST('~/.pytorch/F_MNIST_data/', download=True, train=False, transform=transform)\n",
        "```\n",
        "\n",
        "The test set contains images just like the training set. Typically you'll see 10-20% of the original dataset held out for testing and validation with the rest being used for training."
      ]
    },
    {
      "cell_type": "code",
      "metadata": {
        "id": "Wzwj-HQxRWOg"
      },
      "source": [
        "import torch\n",
        "from torchvision import datasets, transforms\n",
        "\n",
        "# Define a transform to normalize the data\n",
        "transform = transforms.Compose([transforms.ToTensor(),\n",
        "                                transforms.Normalize((0.5,), (0.5,))])\n",
        "# Download and load the training data\n",
        "trainset = datasets.FashionMNIST('~/.pytorch/F_MNIST_data/', download=True, train=True, transform=transform)\n",
        "trainloader = torch.utils.data.DataLoader(trainset, batch_size=64, shuffle=True)\n",
        "\n",
        "# Download and load the test data\n",
        "testset = datasets.FashionMNIST('~/.pytorch/F_MNIST_data/', download=True, train=False, transform=transform)\n",
        "testloader = torch.utils.data.DataLoader(testset, batch_size=64, shuffle=True)"
      ],
      "execution_count": 9,
      "outputs": []
    },
    {
      "cell_type": "markdown",
      "metadata": {
        "id": "FyN_IyscRWOh"
      },
      "source": [
        "Here I'll create a model like normal, using the same one from my solution for part 4."
      ]
    },
    {
      "cell_type": "code",
      "metadata": {
        "id": "Bv0NVAe2RWOh"
      },
      "source": [
        "from torch import nn, optim\n",
        "import torch.nn.functional as F\n",
        "\n",
        "class Classifier(nn.Module):\n",
        "    def __init__(self):\n",
        "        super().__init__()\n",
        "        self.fc1 = nn.Linear(784, 256)\n",
        "        self.fc2 = nn.Linear(256, 128)\n",
        "        self.fc3 = nn.Linear(128, 64)\n",
        "        self.fc4 = nn.Linear(64, 10)\n",
        "        \n",
        "    def forward(self, x):\n",
        "        # make sure input tensor is flattened\n",
        "        x = x.view(x.shape[0], -1)\n",
        "        \n",
        "        x = F.relu(self.fc1(x))\n",
        "        x = F.relu(self.fc2(x))\n",
        "        x = F.relu(self.fc3(x))\n",
        "        x = F.log_softmax(self.fc4(x), dim=1)\n",
        "        \n",
        "        return x"
      ],
      "execution_count": 10,
      "outputs": []
    },
    {
      "cell_type": "markdown",
      "metadata": {
        "id": "VUxA3Sp-RWOh"
      },
      "source": [
        "The goal of validation is to measure the model's performance on data that isn't part of the training set. Performance here is up to the developer to define though. Typically this is just accuracy, the percentage of classes the network predicted correctly. Other options are [precision and recall](https://en.wikipedia.org/wiki/Precision_and_recall#Definition_(classification_context)) and top-5 error rate. We'll focus on accuracy here. First I'll do a forward pass with one batch from the test set."
      ]
    },
    {
      "cell_type": "code",
      "metadata": {
        "id": "GuSP7SNVRWOi",
        "colab": {
          "base_uri": "https://localhost:8080/"
        },
        "outputId": "1e94f6ba-cb5a-4954-b183-52682d38c33b"
      },
      "source": [
        "model = Classifier()\n",
        "\n",
        "images, labels = next(iter(testloader))\n",
        "# Get the class probabilities\n",
        "ps = torch.exp(model(images))\n",
        "# Make sure the shape is appropriate, we should get 10 class probabilities for 64 examples\n",
        "print(ps.shape)"
      ],
      "execution_count": 11,
      "outputs": [
        {
          "output_type": "stream",
          "text": [
            "torch.Size([64, 10])\n"
          ],
          "name": "stdout"
        }
      ]
    },
    {
      "cell_type": "markdown",
      "metadata": {
        "id": "Bn8lRXmaRWOj"
      },
      "source": [
        "With the probabilities, we can get the most likely class using the `ps.topk` method. This returns the $k$ highest values. Since we just want the most likely class, we can use `ps.topk(1)`. This returns a tuple of the top-$k$ values and the top-$k$ indices. If the highest value is the fifth element, we'll get back 4 as the index."
      ]
    },
    {
      "cell_type": "code",
      "metadata": {
        "id": "X-MR8KBjRWOj",
        "colab": {
          "base_uri": "https://localhost:8080/"
        },
        "outputId": "05f42d75-48a7-4d2c-d2e3-16a28bebd246"
      },
      "source": [
        "top_p, top_class = ps.topk(1, dim=1)\n",
        "# Look at the most likely classes for the first 10 examples\n",
        "print(top_class[:10,:])"
      ],
      "execution_count": 12,
      "outputs": [
        {
          "output_type": "stream",
          "text": [
            "tensor([[3],\n",
            "        [3],\n",
            "        [5],\n",
            "        [5],\n",
            "        [3],\n",
            "        [5],\n",
            "        [3],\n",
            "        [5],\n",
            "        [5],\n",
            "        [5]])\n"
          ],
          "name": "stdout"
        }
      ]
    },
    {
      "cell_type": "markdown",
      "metadata": {
        "id": "Jvf4bqXpRWOj"
      },
      "source": [
        "Now we can check if the predicted classes match the labels. This is simple to do by equating `top_class` and `labels`, but we have to be careful of the shapes. Here `top_class` is a 2D tensor with shape `(64, 1)` while `labels` is 1D with shape `(64)`. To get the equality to work out the way we want, `top_class` and `labels` must have the same shape.\n",
        "\n",
        "If we do\n",
        "\n",
        "```python\n",
        "equals = top_class == labels\n",
        "```\n",
        "\n",
        "`equals` will have shape `(64, 64)`, try it yourself. What it's doing is comparing the one element in each row of `top_class` with each element in `labels` which returns 64 True/False boolean values for each row."
      ]
    },
    {
      "cell_type": "code",
      "metadata": {
        "id": "md1Zs_cMRWOk"
      },
      "source": [
        "equals = top_class == labels.view(top_class.shape)"
      ],
      "execution_count": 13,
      "outputs": []
    },
    {
      "cell_type": "markdown",
      "metadata": {
        "id": "875dZymIRWOk"
      },
      "source": [
        "Now we need to calculate the percentage of correct predictions. `equals` has binary values, either 0 or 1. This means that if we just sum up all the values and divide by the number of values, we get the percentage of correct predictions. This is the same operation as taking the mean, so we can get the accuracy with a call to `torch.mean`. If only it was that simple. If you try `torch.mean(equals)`, you'll get an error\n",
        "\n",
        "```\n",
        "RuntimeError: mean is not implemented for type torch.ByteTensor\n",
        "```\n",
        "\n",
        "This happens because `equals` has type `torch.ByteTensor` but `torch.mean` isn't implemented for tensors with that type. So we'll need to convert `equals` to a float tensor. Note that when we take `torch.mean` it returns a scalar tensor, to get the actual value as a float we'll need to do `accuracy.item()`."
      ]
    },
    {
      "cell_type": "code",
      "metadata": {
        "id": "ZJ5iefd_RWOk",
        "colab": {
          "base_uri": "https://localhost:8080/"
        },
        "outputId": "6976280d-6f80-408f-bf20-5393faf2127b"
      },
      "source": [
        "accuracy = torch.mean(equals.type(torch.FloatTensor))\n",
        "print(f'Accuracy: {accuracy.item()*100}%')"
      ],
      "execution_count": 14,
      "outputs": [
        {
          "output_type": "stream",
          "text": [
            "Accuracy: 4.6875%\n"
          ],
          "name": "stdout"
        }
      ]
    },
    {
      "cell_type": "markdown",
      "metadata": {
        "id": "GVb1Ox81RWOk"
      },
      "source": [
        "The network is untrained so it's making random guesses and we should see an accuracy around 10%. Now let's train our network and include our validation pass so we can measure how well the network is performing on the test set. Since we're not updating our parameters in the validation pass, we can speed up our code by turning off gradients using `torch.no_grad()`:\n",
        "\n",
        "```python\n",
        "# turn off gradients\n",
        "with torch.no_grad():\n",
        "    # validation pass here\n",
        "    for images, labels in testloader:\n",
        "        ...\n",
        "```\n",
        "\n",
        ">**Exercise:** Implement the validation loop below and print out the total accuracy after the loop. You can largely copy and paste the code from above, but I suggest typing it in because writing it out yourself is essential for building the skill. In general you'll always learn more by typing it rather than copy-pasting. You should be able to get an accuracy above 80%."
      ]
    },
    {
      "cell_type": "code",
      "metadata": {
        "id": "z7kb46m0RWOl",
        "colab": {
          "base_uri": "https://localhost:8080/"
        },
        "outputId": "aa9585b7-6113-44cc-c32c-4bbe1ee2c7fe"
      },
      "source": [
        "model = Classifier()\n",
        "criterion = nn.NLLLoss()\n",
        "optimizer = optim.Adam(model.parameters(), lr=0.003)\n",
        "\n",
        "epochs = 30\n",
        "steps = 0\n",
        "\n",
        "train_losses, test_losses = [], []\n",
        "for e in range(epochs):\n",
        "    running_loss = 0\n",
        "    for images, labels in trainloader:        \n",
        "        optimizer.zero_grad()        \n",
        "        log_ps = model(images)\n",
        "        loss = criterion(log_ps, labels)\n",
        "        loss.backward()\n",
        "        optimizer.step()\n",
        "        \n",
        "        running_loss += loss.item()\n",
        "        \n",
        "    else:\n",
        "        test_loss=0\n",
        "        accuracy=0\n",
        "        ## TODO: Implement the validation pass and print out the validation accuracy\n",
        "        with torch.no_grad():\n",
        "          for images,labels in testloader:\n",
        "            log_ps=model.forward(images)\n",
        "            test_loss+=criterion(log_ps,labels)\n",
        "            ps=torch.exp(log_ps)\n",
        "\n",
        "            top_p,top_class=ps.topk(1,dim=1)\n",
        "            equals = top_class == labels.view(top_class.shape)\n",
        "            accuracy+=torch.mean(equals.type(torch.FloatTensor))\n",
        "        train_losses.append(running_loss/len(trainloader))\n",
        "        test_losses.append(test_loss/len(testloader))\n",
        "\n",
        "        print(f'Accuracy: {accuracy/len(testloader)}%')\n",
        "        print(\"Training loss\",running_loss/len(trainloader))\n",
        "        print(\"Testing loss\",test_loss/len(testloader))"
      ],
      "execution_count": 16,
      "outputs": [
        {
          "output_type": "stream",
          "text": [
            "Accuracy: 0.837380588054657%\n",
            "Training loss 0.5123616846830352\n",
            "Testing loss tensor(0.4409)\n",
            "Accuracy: 0.8502189517021179%\n",
            "Training loss 0.39104903964345644\n",
            "Testing loss tensor(0.4186)\n",
            "Accuracy: 0.8613654375076294%\n",
            "Training loss 0.3564742443912319\n",
            "Testing loss tensor(0.3905)\n",
            "Accuracy: 0.8551950454711914%\n",
            "Training loss 0.3326984451476064\n",
            "Testing loss tensor(0.3984)\n",
            "Accuracy: 0.8676353693008423%\n",
            "Training loss 0.31410708267297316\n",
            "Testing loss tensor(0.3773)\n",
            "Accuracy: 0.8730095624923706%\n",
            "Training loss 0.3069343011198776\n",
            "Testing loss tensor(0.3604)\n",
            "Accuracy: 0.8678343892097473%\n",
            "Training loss 0.2922130777780562\n",
            "Testing loss tensor(0.3794)\n",
            "Accuracy: 0.8730095624923706%\n",
            "Training loss 0.28489915503939583\n",
            "Testing loss tensor(0.3740)\n",
            "Accuracy: 0.866042971611023%\n",
            "Training loss 0.2768559696069404\n",
            "Testing loss tensor(0.3780)\n",
            "Accuracy: 0.8702229261398315%\n",
            "Training loss 0.2683558916565833\n",
            "Testing loss tensor(0.3677)\n",
            "Accuracy: 0.878284215927124%\n",
            "Training loss 0.2631549003091194\n",
            "Testing loss tensor(0.3504)\n",
            "Accuracy: 0.8680334687232971%\n",
            "Training loss 0.25592632975770846\n",
            "Testing loss tensor(0.3966)\n",
            "Accuracy: 0.878284215927124%\n",
            "Training loss 0.2502373806925725\n",
            "Testing loss tensor(0.3690)\n",
            "Accuracy: 0.8769904375076294%\n",
            "Training loss 0.2459840847453329\n",
            "Testing loss tensor(0.3822)\n",
            "Accuracy: 0.8809713125228882%\n",
            "Training loss 0.24312005488714303\n",
            "Testing loss tensor(0.3769)\n",
            "Accuracy: 0.8824641704559326%\n",
            "Training loss 0.23717918185028694\n",
            "Testing loss tensor(0.3782)\n",
            "Accuracy: 0.8741043210029602%\n",
            "Training loss 0.2300833937710028\n",
            "Testing loss tensor(0.3759)\n",
            "Accuracy: 0.8763933181762695%\n",
            "Training loss 0.224402709194878\n",
            "Testing loss tensor(0.3798)\n",
            "Accuracy: 0.8767914175987244%\n",
            "Training loss 0.2243365517406385\n",
            "Testing loss tensor(0.3894)\n",
            "Accuracy: 0.8836584687232971%\n",
            "Training loss 0.21981689563072693\n",
            "Testing loss tensor(0.3770)\n",
            "Accuracy: 0.881369411945343%\n",
            "Training loss 0.21528895041629323\n",
            "Testing loss tensor(0.3996)\n",
            "Accuracy: 0.8850517272949219%\n",
            "Training loss 0.20998993223266943\n",
            "Testing loss tensor(0.3776)\n",
            "Accuracy: 0.8772889971733093%\n",
            "Training loss 0.20848723607801045\n",
            "Testing loss tensor(0.4180)\n",
            "Accuracy: 0.8807722926139832%\n",
            "Training loss 0.20692344553975153\n",
            "Testing loss tensor(0.3917)\n",
            "Accuracy: 0.8810708522796631%\n",
            "Training loss 0.20041673976197236\n",
            "Testing loss tensor(0.4043)\n",
            "Accuracy: 0.881369411945343%\n",
            "Training loss 0.19921139675750535\n",
            "Testing loss tensor(0.4041)\n",
            "Accuracy: 0.8774880766868591%\n",
            "Training loss 0.19675414415120063\n",
            "Testing loss tensor(0.4399)\n",
            "Accuracy: 0.8830612897872925%\n",
            "Training loss 0.1965344916981484\n",
            "Testing loss tensor(0.4166)\n",
            "Accuracy: 0.8713176846504211%\n",
            "Training loss 0.18801004787696513\n",
            "Testing loss tensor(0.4613)\n",
            "Accuracy: 0.8734076619148254%\n",
            "Training loss 0.18450765319263884\n",
            "Testing loss tensor(0.4598)\n"
          ],
          "name": "stdout"
        }
      ]
    },
    {
      "cell_type": "code",
      "metadata": {
        "id": "RLCeoU1c_s3j"
      },
      "source": [
        "import matplotlib.pyplot as plt\r\n"
      ],
      "execution_count": 17,
      "outputs": []
    },
    {
      "cell_type": "code",
      "metadata": {
        "colab": {
          "base_uri": "https://localhost:8080/",
          "height": 282
        },
        "id": "QVXCp33T_1w_",
        "outputId": "bf86d698-8dcc-4ff9-cafd-ad20c2ad346e"
      },
      "source": [
        "plt.plot(train_losses,label=\"Training loss\")\r\n",
        "plt.plot(test_losses,label=\"Testing loss\")"
      ],
      "execution_count": 18,
      "outputs": [
        {
          "output_type": "execute_result",
          "data": {
            "text/plain": [
              "[<matplotlib.lines.Line2D at 0x7fcf707a4be0>]"
            ]
          },
          "metadata": {
            "tags": []
          },
          "execution_count": 18
        },
        {
          "output_type": "display_data",
          "data": {
            "image/png": "[encoded data removed]",
            "text/plain": [
              "<Figure size 432x288 with 1 Axes>"
            ]
          },
          "metadata": {
            "tags": [],
            "needs_background": "light"
          }
        }
      ]
    },
    {
      "cell_type": "markdown",
      "metadata": {
        "id": "yO2XtEAURWOl"
      },
      "source": [
        "## Overfitting\n",
        "\n",
        "If we look at the training and validation losses as we train the network, we can see a phenomenon known as overfitting.\n",
        "\n",
        "<img src='https://github.com/udacity/deep-learning-v2-pytorch/blob/master/intro-to-pytorch/assets/overfitting.png?raw=1' width=450px>\n",
        "\n",
        "The network learns the training set better and better, resulting in lower training losses. However, it starts having problems generalizing to data outside the training set leading to the validation loss increasing. The ultimate goal of any deep learning model is to make predictions on new data, so we should strive to get the lowest validation loss possible. One option is to use the version of the model with the lowest validation loss, here the one around 8-10 training epochs. This strategy is called *early-stopping*. In practice, you'd save the model frequently as you're training then later choose the model with the lowest validation loss.\n",
        "\n",
        "The most common method to reduce overfitting (outside of early-stopping) is *dropout*, where we randomly drop input units. This forces the network to share information between weights, increasing it's ability to generalize to new data. Adding dropout in PyTorch is straightforward using the [`nn.Dropout`](https://pytorch.org/docs/stable/nn.html#torch.nn.Dropout) module.\n",
        "\n",
        "```python\n",
        "class Classifier(nn.Module):\n",
        "    def __init__(self):\n",
        "        super().__init__()\n",
        "        self.fc1 = nn.Linear(784, 256)\n",
        "        self.fc2 = nn.Linear(256, 128)\n",
        "        self.fc3 = nn.Linear(128, 64)\n",
        "        self.fc4 = nn.Linear(64, 10)\n",
        "        \n",
        "        # Dropout module with 0.2 drop probability\n",
        "        self.dropout = nn.Dropout(p=0.2)\n",
        "        \n",
        "    def forward(self, x):\n",
        "        # make sure input tensor is flattened\n",
        "        x = x.view(x.shape[0], -1)\n",
        "        \n",
        "        # Now with dropout\n",
        "        x = self.dropout(F.relu(self.fc1(x)))\n",
        "        x = self.dropout(F.relu(self.fc2(x)))\n",
        "        x = self.dropout(F.relu(self.fc3(x)))\n",
        "        \n",
        "        # output so no dropout here\n",
        "        x = F.log_softmax(self.fc4(x), dim=1)\n",
        "        \n",
        "        return x\n",
        "```\n",
        "\n",
        "During training we want to use dropout to prevent overfitting, but during inference we want to use the entire network. So, we need to turn off dropout during validation, testing, and whenever we're using the network to make predictions. To do this, you use `model.eval()`. This sets the model to evaluation mode where the dropout probability is 0. You can turn dropout back on by setting the model to train mode with `model.train()`. In general, the pattern for the validation loop will look like this, where you turn off gradients, set the model to evaluation mode, calculate the validation loss and metric, then set the model back to train mode.\n",
        "\n",
        "```python\n",
        "# turn off gradients\n",
        "with torch.no_grad():\n",
        "    \n",
        "    # set model to evaluation mode\n",
        "    model.eval()\n",
        "    \n",
        "    # validation pass here\n",
        "    for images, labels in testloader:\n",
        "        ...\n",
        "\n",
        "# set model back to train mode\n",
        "model.train()\n",
        "```"
      ]
    },
    {
      "cell_type": "markdown",
      "metadata": {
        "id": "Ra-9MlPqRWOm"
      },
      "source": [
        "> **Exercise:** Add dropout to your model and train it on Fashion-MNIST again. See if you can get a lower validation loss or higher accuracy."
      ]
    },
    {
      "cell_type": "code",
      "metadata": {
        "id": "Dur09JPBRWOm"
      },
      "source": [
        "## TODO: Define your model with dropout added\r\n",
        "class mnistmodel(nn.Module):\r\n",
        "  def __init__(self):\r\n",
        "    super().__init__()\r\n",
        "    self.fc1 = nn.Linear(784, 256)\r\n",
        "    self.fc2 = nn.Linear(256, 128)\r\n",
        "    self.fc3 = nn.Linear(128, 64)\r\n",
        "    self.fc4 = nn.Linear(64, 10) \r\n",
        "    # Dropout module with 0.2 drop probability\r\n",
        "    self.dropout = nn.Dropout(p=0.2)\r\n",
        "  def forward(self,x):\r\n",
        "    x = x.view(x.shape[0], -1)\r\n",
        "    x=self.dropout(F.relu(self.fc1(x)))\r\n",
        "    x = self.dropout(F.relu(self.fc2(x)))\r\n",
        "    x = self.dropout(F.relu(self.fc3(x)))\r\n",
        "    x = F.log_softmax(self.fc4(x),dim=1)\r\n",
        "    return x\r\n",
        "\r\n"
      ],
      "execution_count": 25,
      "outputs": []
    },
    {
      "cell_type": "code",
      "metadata": {
        "id": "yUTtuBeuRWOm",
        "colab": {
          "base_uri": "https://localhost:8080/"
        },
        "outputId": "061cdc5c-6b39-44a5-faa9-f00d9b218c67"
      },
      "source": [
        "## TODO: Train your model with dropout, and monitor the training progress with the validation loss and accuracy\r\n",
        "model = mnistmodel()\r\n",
        "criterion = nn.NLLLoss()\r\n",
        "optimizer = optim.Adam(model.parameters(), lr=0.003)\r\n",
        "\r\n",
        "epochs = 30\r\n",
        "steps = 0\r\n",
        "\r\n",
        "train_losses, test_losses = [], []\r\n",
        "for e in range(epochs):\r\n",
        "    running_loss = 0\r\n",
        "    model.train()\r\n",
        "    for images, labels in trainloader:        \r\n",
        "        optimizer.zero_grad()        \r\n",
        "        log_ps = model(images)\r\n",
        "        loss = criterion(log_ps, labels)\r\n",
        "        loss.backward()\r\n",
        "        optimizer.step()\r\n",
        "        \r\n",
        "        running_loss += loss.item()\r\n",
        "        \r\n",
        "    else:\r\n",
        "        model.eval()\r\n",
        "        test_loss=0\r\n",
        "        accuracy=0\r\n",
        "        ## TODO: Implement the validation pass and print out the validation accuracy\r\n",
        "        with torch.no_grad():\r\n",
        "          for images,labels in testloader:\r\n",
        "            log_ps=model.forward(images)\r\n",
        "            test_loss+=criterion(log_ps,labels)\r\n",
        "            ps=torch.exp(log_ps)\r\n",
        "\r\n",
        "            top_p,top_class=ps.topk(1,dim=1)\r\n",
        "            equals = top_class == labels.view(top_class.shape)\r\n",
        "            accuracy+=torch.mean(equals.type(torch.FloatTensor))\r\n",
        "        train_losses.append(running_loss/len(trainloader))\r\n",
        "        test_losses.append(test_loss/len(testloader))\r\n",
        "\r\n",
        "        print(f'Accuracy: {accuracy/len(testloader)}%')\r\n",
        "        print(\"Training loss\",running_loss/len(trainloader))\r\n",
        "        print(\"Testing loss\",test_loss/len(testloader))\r\n"
      ],
      "execution_count": 26,
      "outputs": [
        {
          "output_type": "stream",
          "text": [
            "Accuracy: 0.8337977528572083%\n",
            "Training loss 0.6039973233046054\n",
            "Testing loss tensor(0.4630)\n",
            "Accuracy: 0.831409215927124%\n",
            "Training loss 0.48371905665090087\n",
            "Testing loss tensor(0.4609)\n",
            "Accuracy: 0.8521098494529724%\n",
            "Training loss 0.4512279587450312\n",
            "Testing loss tensor(0.4095)\n",
            "Accuracy: 0.8414610028266907%\n",
            "Training loss 0.4335083926696259\n",
            "Testing loss tensor(0.4554)\n",
            "Accuracy: 0.8592754602432251%\n",
            "Training loss 0.4235972329211642\n",
            "Testing loss tensor(0.3950)\n",
            "Accuracy: 0.859574019908905%\n",
            "Training loss 0.4142960950192104\n",
            "Testing loss tensor(0.3991)\n",
            "Accuracy: 0.8603702187538147%\n",
            "Training loss 0.4040754630144979\n",
            "Testing loss tensor(0.3951)\n",
            "Accuracy: 0.8672372698783875%\n",
            "Training loss 0.3954380414665127\n",
            "Testing loss tensor(0.3890)\n",
            "Accuracy: 0.8671377301216125%\n",
            "Training loss 0.3939031917276159\n",
            "Testing loss tensor(0.3895)\n",
            "Accuracy: 0.8645501732826233%\n",
            "Training loss 0.38850130415610923\n",
            "Testing loss tensor(0.3812)\n",
            "Accuracy: 0.8712181448936462%\n",
            "Training loss 0.3825719499035176\n",
            "Testing loss tensor(0.3885)\n",
            "Accuracy: 0.8510151505470276%\n",
            "Training loss 0.3729727171949232\n",
            "Testing loss tensor(0.4347)\n",
            "Accuracy: 0.8673368096351624%\n",
            "Training loss 0.3818545545786937\n",
            "Testing loss tensor(0.3912)\n",
            "Accuracy: 0.8700239062309265%\n",
            "Training loss 0.3750701396783659\n",
            "Testing loss tensor(0.3791)\n",
            "Accuracy: 0.8666401505470276%\n",
            "Training loss 0.37328073914561954\n",
            "Testing loss tensor(0.3743)\n",
            "Accuracy: 0.8654458522796631%\n",
            "Training loss 0.3719236395363487\n",
            "Testing loss tensor(0.3980)\n",
            "Accuracy: 0.8640525341033936%\n",
            "Training loss 0.36482490472860934\n",
            "Testing loss tensor(0.3787)\n",
            "Accuracy: 0.8709195852279663%\n",
            "Training loss 0.35840512816903436\n",
            "Testing loss tensor(0.3809)\n",
            "Accuracy: 0.8710191249847412%\n",
            "Training loss 0.3617468720385388\n",
            "Testing loss tensor(0.3831)\n",
            "Accuracy: 0.865744411945343%\n",
            "Training loss 0.35516046081334035\n",
            "Testing loss tensor(0.3987)\n",
            "Accuracy: 0.875%\n",
            "Training loss 0.35640192141474436\n",
            "Testing loss tensor(0.3746)\n",
            "Accuracy: 0.8659434914588928%\n",
            "Training loss 0.35484573350691084\n",
            "Testing loss tensor(0.4037)\n",
            "Accuracy: 0.8551950454711914%\n",
            "Training loss 0.35577290506759435\n",
            "Testing loss tensor(0.4236)\n",
            "Accuracy: 0.8709195852279663%\n",
            "Training loss 0.35328388233174646\n",
            "Testing loss tensor(0.3960)\n",
            "Accuracy: 0.8700239062309265%\n",
            "Training loss 0.35219067799002884\n",
            "Testing loss tensor(0.3939)\n",
            "Accuracy: 0.8697253465652466%\n",
            "Training loss 0.34690576863250755\n",
            "Testing loss tensor(0.3990)\n",
            "Accuracy: 0.8738057613372803%\n",
            "Training loss 0.3460838735770823\n",
            "Testing loss tensor(0.3662)\n",
            "Accuracy: 0.8582802414894104%\n",
            "Training loss 0.347036531985378\n",
            "Testing loss tensor(0.4043)\n",
            "Accuracy: 0.8737062215805054%\n",
            "Training loss 0.34223116244842755\n",
            "Testing loss tensor(0.3769)\n",
            "Accuracy: 0.8752985596656799%\n",
            "Training loss 0.33927184560977575\n",
            "Testing loss tensor(0.3789)\n"
          ],
          "name": "stdout"
        }
      ]
    },
    {
      "cell_type": "code",
      "metadata": {
        "colab": {
          "base_uri": "https://localhost:8080/",
          "height": 282
        },
        "id": "SOG6ieukIsuw",
        "outputId": "bf8f6510-b90f-4214-e58f-2cbc186f2b8e"
      },
      "source": [
        "plt.plot(train_losses,label=\"Training loss\")\r\n",
        "plt.plot(test_losses,label=\"Testing loss\")"
      ],
      "execution_count": 27,
      "outputs": [
        {
          "output_type": "execute_result",
          "data": {
            "text/plain": [
              "[<matplotlib.lines.Line2D at 0x7fcf700be668>]"
            ]
          },
          "metadata": {
            "tags": []
          },
          "execution_count": 27
        },
        {
          "output_type": "display_data",
          "data": {
            "image/png": "[encoded data removed]",
            "text/plain": [
              "<Figure size 432x288 with 1 Axes>"
            ]
          },
          "metadata": {
            "tags": [],
            "needs_background": "light"
          }
        }
      ]
    },
    {
      "cell_type": "markdown",
      "metadata": {
        "id": "NliZLXsORWOn"
      },
      "source": [
        "## Inference\n",
        "\n",
        "Now that the model is trained, we can use it for inference. We've done this before, but now we need to remember to set the model in inference mode with `model.eval()`. You'll also want to turn off autograd with the `torch.no_grad()` context."
      ]
    },
    {
      "cell_type": "code",
      "metadata": {
        "id": "CrNCKzQrRWOn",
        "colab": {
          "base_uri": "https://localhost:8080/",
          "height": 195
        },
        "outputId": "5b272cc5-e4b1-421e-fcd6-2ed7ad7761ad"
      },
      "source": [
        "# Import helper module (should be in the repo)\n",
        "import helper\n",
        "\n",
        "# Test out your network!\n",
        "\n",
        "model.eval()\n",
        "\n",
        "dataiter = iter(testloader)\n",
        "images, labels = dataiter.next()\n",
        "img = images[0]\n",
        "# Convert 2D image to 1D vector\n",
        "img = img.view(1, 784)\n",
        "\n",
        "# Calculate the class probabilities (softmax) for img\n",
        "with torch.no_grad():\n",
        "    output = model.forward(img)\n",
        "\n",
        "ps = torch.exp(output)\n",
        "\n",
        "# Plot the image and probabilities\n",
        "helper.view_classify(img.view(1, 28, 28), ps, version='Fashion')"
      ],
      "execution_count": 28,
      "outputs": [
        {
          "output_type": "error",
          "ename": "AttributeError",
          "evalue": "ignored",
          "traceback": [
            "\u001b[0;31m---------------------------------------------------------------------------\u001b[0m",
            "\u001b[0;31mAttributeError\u001b[0m                            Traceback (most recent call last)",
            "\u001b[0;32m<ipython-input-28-f2669c554a75>\u001b[0m in \u001b[0;36m<module>\u001b[0;34m()\u001b[0m\n\u001b[1;32m     19\u001b[0m \u001b[0;34m\u001b[0m\u001b[0m\n\u001b[1;32m     20\u001b[0m \u001b[0;31m# Plot the image and probabilities\u001b[0m\u001b[0;34m\u001b[0m\u001b[0;34m\u001b[0m\u001b[0;34m\u001b[0m\u001b[0m\n\u001b[0;32m---> 21\u001b[0;31m \u001b[0mhelper\u001b[0m\u001b[0;34m.\u001b[0m\u001b[0mview_classify\u001b[0m\u001b[0;34m(\u001b[0m\u001b[0mimg\u001b[0m\u001b[0;34m.\u001b[0m\u001b[0mview\u001b[0m\u001b[0;34m(\u001b[0m\u001b[0;36m1\u001b[0m\u001b[0;34m,\u001b[0m \u001b[0;36m28\u001b[0m\u001b[0;34m,\u001b[0m \u001b[0;36m28\u001b[0m\u001b[0;34m)\u001b[0m\u001b[0;34m,\u001b[0m \u001b[0mps\u001b[0m\u001b[0;34m,\u001b[0m \u001b[0mversion\u001b[0m\u001b[0;34m=\u001b[0m\u001b[0;34m'Fashion'\u001b[0m\u001b[0;34m)\u001b[0m\u001b[0;34m\u001b[0m\u001b[0;34m\u001b[0m\u001b[0m\n\u001b[0m",
            "\u001b[0;31mAttributeError\u001b[0m: module 'helper' has no attribute 'view_classify'"
          ]
        }
      ]
    },
    {
      "cell_type": "markdown",
      "metadata": {
        "id": "qUR8NDr1RWOn"
      },
      "source": [
        "## Next Up!\n",
        "\n",
        "In the next part, I'll show you how to save your trained models. In general, you won't want to train a model everytime you need it. Instead, you'll train once, save it, then load the model when you want to train more or use if for inference."
      ]
    }
  ]
}