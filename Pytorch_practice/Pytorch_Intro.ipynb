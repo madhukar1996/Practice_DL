{
  "nbformat": 4,
  "nbformat_minor": 0,
  "metadata": {
    "colab": {
      "name": "Pytorch_Intro.ipynb",
      "provenance": [],
      "collapsed_sections": [],
      "authorship_tag": "ABX9TyPgQbG3s4uRXsLjuXdpZjFr",
      "include_colab_link": true
    },
    "kernelspec": {
      "name": "python3",
      "display_name": "Python 3"
    },
    "language_info": {
      "name": "python"
    }
  },
  "cells": [
    {
      "cell_type": "markdown",
      "metadata": {
        "id": "view-in-github",
        "colab_type": "text"
      },
      "source": [
        "<a href=\"https://colab.research.google.com/github/madhukar1996/Practice_DL/blob/master/Pytorch_practice/Pytorch_Intro.ipynb\" target=\"_parent\"><img src=\"https://colab.research.google.com/assets/colab-badge.svg\" alt=\"Open In Colab\"/></a>"
      ]
    },
    {
      "cell_type": "code",
      "metadata": {
        "id": "jzsKUcsavCyK"
      },
      "source": [
        "# just adding something\n",
        "import torch\n",
        "import numpy as np\n",
        "import matplotlib.pyplot as plt"
      ],
      "execution_count": null,
      "outputs": []
    },
    {
      "cell_type": "code",
      "metadata": {
        "colab": {
          "base_uri": "https://localhost:8080/"
        },
        "id": "qdZq8TUTycE4",
        "outputId": "971713ef-9aa7-4eae-f8e2-d12327a149b1"
      },
      "source": [
        "x=torch.ones(3,2)\n",
        "print(x)\n",
        "x=torch.zeros(3,3)\n",
        "print(x)\n",
        "x=torch.rand(2,2)\n",
        "print(x)"
      ],
      "execution_count": null,
      "outputs": [
        {
          "output_type": "stream",
          "text": [
            "tensor([[1., 1.],\n",
            "        [1., 1.],\n",
            "        [1., 1.]])\n",
            "tensor([[0., 0., 0.],\n",
            "        [0., 0., 0.],\n",
            "        [0., 0., 0.]])\n",
            "tensor([[0.2405, 0.9256],\n",
            "        [0.8102, 0.9973]])\n"
          ],
          "name": "stdout"
        }
      ]
    },
    {
      "cell_type": "code",
      "metadata": {
        "colab": {
          "base_uri": "https://localhost:8080/"
        },
        "id": "s4ILb-0xysT8",
        "outputId": "1d06b611-befa-4a8a-ed80-31ba2e37b51e"
      },
      "source": [
        "x=torch.empty(3,2)\n",
        "print(x)\n",
        "x=torch.zeros_like(x)\n",
        "print(x)"
      ],
      "execution_count": null,
      "outputs": [
        {
          "output_type": "stream",
          "text": [
            "tensor([[3.3650e+31, 3.0663e-41],\n",
            "        [3.3631e-44, 0.0000e+00],\n",
            "        [       nan, 1.0000e+00]])\n",
            "tensor([[0., 0.],\n",
            "        [0., 0.],\n",
            "        [0., 0.]])\n"
          ],
          "name": "stdout"
        }
      ]
    },
    {
      "cell_type": "code",
      "metadata": {
        "id": "sC5UpNiEy7E9"
      },
      "source": [
        "x=torch.ones(2,2)\n",
        "y=torch.ones(2,2)"
      ],
      "execution_count": null,
      "outputs": []
    },
    {
      "cell_type": "code",
      "metadata": {
        "colab": {
          "base_uri": "https://localhost:8080/"
        },
        "id": "o_yZNe4j4dSr",
        "outputId": "ba6d8172-6b98-49cc-a4bc-743e2de31e35"
      },
      "source": [
        "z=x+y\n",
        "print(z)\n",
        "z=x-y\n",
        "print(z)\n",
        "z=x*y\n",
        "print(z)"
      ],
      "execution_count": null,
      "outputs": [
        {
          "output_type": "stream",
          "text": [
            "tensor([[2., 2.],\n",
            "        [2., 2.]])\n",
            "tensor([[0., 0.],\n",
            "        [0., 0.]])\n",
            "tensor([[1., 1.],\n",
            "        [1., 1.]])\n"
          ],
          "name": "stdout"
        }
      ]
    },
    {
      "cell_type": "code",
      "metadata": {
        "colab": {
          "base_uri": "https://localhost:8080/"
        },
        "id": "_FAfyx2r4q46",
        "outputId": "7053b453-93da-4cb5-985b-33a3ee26262a"
      },
      "source": [
        "# Normal adding\n",
        "z=y.add(x)\n",
        "print(z)\n",
        "print(y)\n",
        "# Inplace adding\n",
        "z=y.add_(x)\n",
        "print(z)\n",
        "print(y)"
      ],
      "execution_count": null,
      "outputs": [
        {
          "output_type": "stream",
          "text": [
            "tensor([[2., 2.],\n",
            "        [2., 2.]])\n",
            "tensor([[1., 1.],\n",
            "        [1., 1.]])\n",
            "tensor([[2., 2.],\n",
            "        [2., 2.]])\n",
            "tensor([[2., 2.],\n",
            "        [2., 2.]])\n"
          ],
          "name": "stdout"
        }
      ]
    },
    {
      "cell_type": "code",
      "metadata": {
        "id": "C9XUMSTp43lv"
      },
      "source": [
        "# Numpy and torch conversion"
      ],
      "execution_count": null,
      "outputs": []
    },
    {
      "cell_type": "code",
      "metadata": {
        "colab": {
          "base_uri": "https://localhost:8080/"
        },
        "id": "T9CqjHah5h5H",
        "outputId": "286218f9-b94c-44bc-80b8-9923db31296f"
      },
      "source": [
        "xnp=x.numpy()\n",
        "print(type(x),type(xnp))\n",
        "print(xnp)"
      ],
      "execution_count": null,
      "outputs": [
        {
          "output_type": "stream",
          "text": [
            "<class 'torch.Tensor'> <class 'numpy.ndarray'>\n",
            "[[1. 1.]\n",
            " [1. 1.]]\n"
          ],
          "name": "stdout"
        }
      ]
    },
    {
      "cell_type": "code",
      "metadata": {
        "colab": {
          "base_uri": "https://localhost:8080/"
        },
        "id": "6QM_4FDn6Vhm",
        "outputId": "45c16f7e-fbb0-439e-934b-02548666da8a"
      },
      "source": [
        "b=torch.from_numpy(xnp)\n",
        "print(type(b),type(xnp))\n",
        "print(b)"
      ],
      "execution_count": null,
      "outputs": [
        {
          "output_type": "stream",
          "text": [
            "<class 'torch.Tensor'> <class 'numpy.ndarray'>\n",
            "tensor([[1., 1.],\n",
            "        [1., 1.]])\n"
          ],
          "name": "stdout"
        }
      ]
    },
    {
      "cell_type": "code",
      "metadata": {
        "colab": {
          "base_uri": "https://localhost:8080/"
        },
        "id": "-4aYyEcU6oEm",
        "outputId": "f211358e-ea6d-4bd7-cf7e-c7cb1408940e"
      },
      "source": [
        "# Same memory used when torch.from_numpy() It is actually a bridge\n",
        "np.add(xnp,1,out=xnp)\n",
        "print(xnp)\n",
        "print(b)"
      ],
      "execution_count": null,
      "outputs": [
        {
          "output_type": "stream",
          "text": [
            "[[2. 2.]\n",
            " [2. 2.]]\n",
            "tensor([[2., 2.],\n",
            "        [2., 2.]])\n"
          ],
          "name": "stdout"
        }
      ]
    },
    {
      "cell_type": "code",
      "metadata": {
        "id": "qPGXDpBm80pB"
      },
      "source": [
        "# NFS (Need For Speed)"
      ],
      "execution_count": null,
      "outputs": []
    },
    {
      "cell_type": "code",
      "metadata": {
        "colab": {
          "base_uri": "https://localhost:8080/"
        },
        "id": "gK9VG-m8-BEj",
        "outputId": "91a21436-65fd-42c8-a181-e8a599d699a2"
      },
      "source": [
        "%%time\n",
        "for i in range(10):\n",
        "  a=np.random.randn(10000,10000)\n",
        "  b=np.random.randn(10000,10000)\n",
        "  c=a+b"
      ],
      "execution_count": null,
      "outputs": [
        {
          "output_type": "stream",
          "text": [
            "CPU times: user 1min 24s, sys: 1.22 s, total: 1min 26s\n",
            "Wall time: 1min 25s\n"
          ],
          "name": "stdout"
        }
      ]
    },
    {
      "cell_type": "code",
      "metadata": {
        "colab": {
          "base_uri": "https://localhost:8080/"
        },
        "id": "PqCVQ1Z8-TY8",
        "outputId": "b364a249-a276-4d1c-f37b-4beb2cc6913a"
      },
      "source": [
        "%%time\n",
        "for i in range(10):\n",
        "  a=torch.randn([10000,10000])\n",
        "  b=torch.randn([10000,10000])\n",
        "  c=a+b"
      ],
      "execution_count": null,
      "outputs": [
        {
          "output_type": "stream",
          "text": [
            "CPU times: user 21.5 s, sys: 33.7 ms, total: 21.5 s\n",
            "Wall time: 21.5 s\n"
          ],
          "name": "stdout"
        }
      ]
    },
    {
      "cell_type": "code",
      "metadata": {
        "id": "NY27YShV_DUl"
      },
      "source": [
        "# using CUDA"
      ],
      "execution_count": null,
      "outputs": []
    },
    {
      "cell_type": "code",
      "metadata": {
        "colab": {
          "base_uri": "https://localhost:8080/"
        },
        "id": "-zVUDpysHOp2",
        "outputId": "25122f36-cdc1-42c7-afbb-1a3f2505a9ac"
      },
      "source": [
        "print(torch.cuda.device_count())"
      ],
      "execution_count": null,
      "outputs": [
        {
          "output_type": "stream",
          "text": [
            "1\n"
          ],
          "name": "stdout"
        }
      ]
    },
    {
      "cell_type": "code",
      "metadata": {
        "colab": {
          "base_uri": "https://localhost:8080/"
        },
        "id": "RiERxsb5HgiA",
        "outputId": "9d6a80b1-d191-4842-8b28-45eda517f376"
      },
      "source": [
        "print(torch.cuda.device(0))"
      ],
      "execution_count": null,
      "outputs": [
        {
          "output_type": "stream",
          "text": [
            "<torch.cuda.device object at 0x7f9cea712350>\n"
          ],
          "name": "stdout"
        }
      ]
    },
    {
      "cell_type": "code",
      "metadata": {
        "id": "Djia8yXiHmPl"
      },
      "source": [
        "cuda0 = torch.device('cuda:0')"
      ],
      "execution_count": null,
      "outputs": []
    },
    {
      "cell_type": "code",
      "metadata": {
        "colab": {
          "base_uri": "https://localhost:8080/"
        },
        "id": "E18SwH0FHrwE",
        "outputId": "adca3764-0126-4176-b714-e64d3ad0d690"
      },
      "source": [
        "%%time\n",
        "for i in range(10):\n",
        "  a=np.random.randn(10000,10000)\n",
        "  b=np.random.randn(10000,10000)\n",
        "  np.add(a,b)"
      ],
      "execution_count": null,
      "outputs": [
        {
          "output_type": "stream",
          "text": [
            "CPU times: user 1min 11s, sys: 334 ms, total: 1min 12s\n",
            "Wall time: 1min 11s\n"
          ],
          "name": "stdout"
        }
      ]
    },
    {
      "cell_type": "code",
      "metadata": {
        "colab": {
          "base_uri": "https://localhost:8080/"
        },
        "id": "8dXDM2lsHxoO",
        "outputId": "dc6b05cf-1b90-474a-d48e-4746aa9d8825"
      },
      "source": [
        "%%time\n",
        "for i in range(10):\n",
        "  a=torch.randn([10000,10000])\n",
        "  b=torch.randn([10000,10000])\n",
        "  # inplace addition\n",
        "  b.add_(a)"
      ],
      "execution_count": null,
      "outputs": [
        {
          "output_type": "stream",
          "text": [
            "CPU times: user 17.8 s, sys: 14.8 ms, total: 17.8 s\n",
            "Wall time: 17.7 s\n"
          ],
          "name": "stdout"
        }
      ]
    },
    {
      "cell_type": "code",
      "metadata": {
        "colab": {
          "base_uri": "https://localhost:8080/"
        },
        "id": "VQt3Eaw1H1qd",
        "outputId": "f192d94b-1bf7-4929-cce9-f1104c6047be"
      },
      "source": [
        "%%time\n",
        "for i in range(10):\n",
        "  a=torch.randn([10000,10000],device=cuda0)\n",
        "  b=torch.randn([10000,10000],device=cuda0)\n",
        "  b.add_(a)"
      ],
      "execution_count": null,
      "outputs": [
        {
          "output_type": "stream",
          "text": [
            "CPU times: user 1.69 ms, sys: 0 ns, total: 1.69 ms\n",
            "Wall time: 1.38 ms\n"
          ],
          "name": "stdout"
        }
      ]
    },
    {
      "cell_type": "code",
      "metadata": {
        "id": "-qj4PHMnH7Y4"
      },
      "source": [
        "# AutoGrad"
      ],
      "execution_count": null,
      "outputs": []
    },
    {
      "cell_type": "code",
      "metadata": {
        "colab": {
          "base_uri": "https://localhost:8080/"
        },
        "id": "uSbAETWgNQ9R",
        "outputId": "a09b10a5-663a-475a-92d1-d8c11fb5ceeb"
      },
      "source": [
        "x= torch.ones(3,2,requires_grad=True)\n",
        "y=x+3\n",
        "r=(1/(1+torch.exp(-y)))\n",
        "a=torch.ones(3,2)\n",
        "r.backward(a)\n",
        "x.grad"
      ],
      "execution_count": null,
      "outputs": [
        {
          "output_type": "execute_result",
          "data": {
            "text/plain": [
              "tensor([[0.0177, 0.0177],\n",
              "        [0.0177, 0.0177],\n",
              "        [0.0177, 0.0177]])"
            ]
          },
          "metadata": {
            "tags": []
          },
          "execution_count": 15
        }
      ]
    },
    {
      "cell_type": "code",
      "metadata": {
        "colab": {
          "base_uri": "https://localhost:8080/"
        },
        "id": "sG3cfPnVNn3d",
        "outputId": "0a931c36-398a-4a89-ab58-633b897dc387"
      },
      "source": [
        ""
      ],
      "execution_count": null,
      "outputs": [
        {
          "output_type": "execute_result",
          "data": {
            "text/plain": [
              "tensor([[0.0177, 0.0177],\n",
              "        [0.0177, 0.0177],\n",
              "        [0.0177, 0.0177]])"
            ]
          },
          "metadata": {
            "tags": []
          },
          "execution_count": 13
        }
      ]
    },
    {
      "cell_type": "code",
      "metadata": {
        "id": "FuttYKYSNldI"
      },
      "source": [
        "# autograd example for linear reg"
      ],
      "execution_count": null,
      "outputs": []
    },
    {
      "cell_type": "code",
      "metadata": {
        "colab": {
          "base_uri": "https://localhost:8080/"
        },
        "id": "xZ7J73FOk0Mm",
        "outputId": "7cb32f70-400e-4c35-c0eb-829b39fe728a"
      },
      "source": [
        "x=torch.randn(20,1)\n",
        "y=3*x-2\n",
        "w=torch.tensor([1.],requires_grad=True)\n",
        "b=torch.tensor([1.],requires_grad=True)\n",
        "yhat= w*x+b\n",
        "loss=torch.sum((y-yhat)**2)\n",
        "print(loss)\n",
        "loss.backward()\n",
        "print(w.grad,b.grad)"
      ],
      "execution_count": null,
      "outputs": [
        {
          "output_type": "stream",
          "text": [
            "tensor(265.1402, grad_fn=<SumBackward0>)\n",
            "tensor([-105.1433]) tensor([106.6646])\n"
          ],
          "name": "stdout"
        }
      ]
    },
    {
      "cell_type": "code",
      "metadata": {
        "id": "WyfScScrlWHC"
      },
      "source": [
        ""
      ],
      "execution_count": null,
      "outputs": []
    }
  ]
}