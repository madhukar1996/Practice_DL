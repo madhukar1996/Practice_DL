{
  "nbformat": 4,
  "nbformat_minor": 0,
  "metadata": {
    "colab": {
      "name": "Kaggle_jan2021_playground.ipynb",
      "provenance": [],
      "authorship_tag": "ABX9TyPfCgHggaJPmxaBrzBAoCOc",
      "include_colab_link": true
    },
    "kernelspec": {
      "name": "python3",
      "display_name": "Python 3"
    },
    "language_info": {
      "name": "python"
    }
  },
  "cells": [
    {
      "cell_type": "markdown",
      "metadata": {
        "id": "view-in-github",
        "colab_type": "text"
      },
      "source": [
        "<a href=\"https://colab.research.google.com/github/madhukar1996/Practice_DL/blob/master/Competitions/Jan2021_playground/Kaggle_jan2021_playground.ipynb\" target=\"_parent\"><img src=\"https://colab.research.google.com/assets/colab-badge.svg\" alt=\"Open In Colab\"/></a>"
      ]
    },
    {
      "cell_type": "code",
      "execution_count": 2,
      "metadata": {
        "id": "k4yeFJPTWmkP"
      },
      "outputs": [],
      "source": [
        "# implementing DAE to improve data \n",
        "# following the first place solution\n",
        "#https://www.kaggle.com/code/springmanndaniel/1st-place-turn-your-data-into-daeta/report"
      ]
    },
    {
      "cell_type": "code",
      "source": [
        "# Improving data using DAE"
      ],
      "metadata": {
        "id": "QNukNeC_aFlk"
      },
      "execution_count": null,
      "outputs": []
    },
    {
      "cell_type": "code",
      "source": [
        "# hyperparameters"
      ],
      "metadata": {
        "id": "GbeAmTiVZR5o"
      },
      "execution_count": 3,
      "outputs": []
    },
    {
      "cell_type": "code",
      "source": [
        "# imports"
      ],
      "metadata": {
        "id": "gM1tOTsWZrmx"
      },
      "execution_count": 4,
      "outputs": []
    },
    {
      "cell_type": "code",
      "source": [
        "# data loaders"
      ],
      "metadata": {
        "id": "RGeXqO26ZtZw"
      },
      "execution_count": 5,
      "outputs": []
    },
    {
      "cell_type": "code",
      "source": [
        "# model defining"
      ],
      "metadata": {
        "id": "UUDUHBOSZxGK"
      },
      "execution_count": 6,
      "outputs": []
    },
    {
      "cell_type": "code",
      "source": [
        "# training part"
      ],
      "metadata": {
        "id": "puwMtTO_Z0MF"
      },
      "execution_count": null,
      "outputs": []
    }
  ]
}