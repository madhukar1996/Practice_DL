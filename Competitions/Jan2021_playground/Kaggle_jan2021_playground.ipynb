{
  "nbformat": 4,
  "nbformat_minor": 0,
  "metadata": {
    "colab": {
      "name": "Kaggle_jan2021_playground.ipynb",
      "provenance": [],
      "authorship_tag": "ABX9TyNowABUswxTYDfLQhvnea8r",
      "include_colab_link": true
    },
    "kernelspec": {
      "name": "python3",
      "display_name": "Python 3"
    },
    "language_info": {
      "name": "python"
    }
  },
  "cells": [
    {
      "cell_type": "markdown",
      "metadata": {
        "id": "view-in-github",
        "colab_type": "text"
      },
      "source": [
        "<a href=\"https://colab.research.google.com/github/madhukar1996/Practice_DL/blob/master/Competitions/Jan2021_playground/Kaggle_jan2021_playground.ipynb\" target=\"_parent\"><img src=\"https://colab.research.google.com/assets/colab-badge.svg\" alt=\"Open In Colab\"/></a>"
      ]
    },
    {
      "cell_type": "code",
      "execution_count": null,
      "metadata": {
        "id": "k4yeFJPTWmkP"
      },
      "outputs": [],
      "source": [
        "# implementing DAE to improve data \n",
        "# following the first place solution\n",
        "#https://www.kaggle.com/code/springmanndaniel/1st-place-turn-your-data-into-daeta/report"
      ]
    },
    {
      "cell_type": "code",
      "source": [
        "# Improving data using DAE"
      ],
      "metadata": {
        "id": "QNukNeC_aFlk"
      },
      "execution_count": null,
      "outputs": []
    },
    {
      "cell_type": "code",
      "source": [
        "# hyperparameters\n",
        "no_of_features=14\n",
        "hidden_dim1=8\n",
        "hidden_dim2=4"
      ],
      "metadata": {
        "id": "GbeAmTiVZR5o"
      },
      "execution_count": 2,
      "outputs": []
    },
    {
      "cell_type": "code",
      "source": [
        "# imports\n",
        "import torch\n",
        "from torch import nn\n",
        "import torch.nn.functional as F\n",
        "\n"
      ],
      "metadata": {
        "id": "gM1tOTsWZrmx"
      },
      "execution_count": 1,
      "outputs": []
    },
    {
      "cell_type": "code",
      "source": [
        "# data loaders"
      ],
      "metadata": {
        "id": "RGeXqO26ZtZw"
      },
      "execution_count": null,
      "outputs": []
    },
    {
      "cell_type": "code",
      "source": [
        "# model defining\n",
        "\n",
        "class DAE(nn.Module):\n",
        "\n",
        "  def __init__(self,no_of_features,hidden_dim1,hidden_dim2):\n",
        "    super().__init()\n",
        "    self.encoder=nn.Sequential(\n",
        "        nn.Linear(no_of_features,hidden_dim1),\n",
        "        nn.ReLU(),\n",
        "        nn.Linear(hidden_dim1,hidden_dim2)\n",
        "    )\n",
        "\n",
        "    self.decoder=nn.Sequential(\n",
        "        nn.Linear(hidden_dim2,hidden_dim1),\n",
        "        nn.ReLU(),\n",
        "        nn.Linear(hidden_dim1,no_of_features)\n",
        "    )\n",
        "  \n",
        "  def forward(self,x):\n",
        "    x=self.encoder(x)\n",
        "    x=self.decoder(x)\n",
        "    return x"
      ],
      "metadata": {
        "id": "UUDUHBOSZxGK"
      },
      "execution_count": 3,
      "outputs": []
    },
    {
      "cell_type": "code",
      "source": [
        "# training part"
      ],
      "metadata": {
        "id": "puwMtTO_Z0MF"
      },
      "execution_count": null,
      "outputs": []
    }
  ]
}